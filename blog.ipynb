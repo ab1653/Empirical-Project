{
 "cells": [
  {
   "cell_type": "markdown",
   "metadata": {},
   "source": [
    "## ideas for data correlation\n",
    "\n",
    "- number of released tv shows / movies each year\n",
    "    - show it on the same line graph\n",
    "    - see if movies have been more popular one year, some causal factors\n",
    "- correlation between directors and ratings ( fins the best director )\n",
    "- correlation between cast and ratings ( fins who is the best cast individuals )\n",
    "    - find the best director and cast combo\n",
    "- do something with countries\n",
    "- find some correlations between duration and ratings ( find a distribution maybe )\n",
    "    - expected a distribution to find the ideal length of file\n",
    "    - if achieved this yes or no?\n",
    "- analyse the title and see what appeals to people the most ( in terms of common words )\n",
    "    - find peoples favourite word, does it yield words like the, or and or more fancy words?\n",
    "- does the movie type suggest how many staff are employed to act\n",
    "    - maybe movies have more of a budget on average, hence being able to employ more staff, does this prevail.\n",
    "\n",
    "\n",
    "- word analysis\n"
   ]
  },
  {
   "cell_type": "markdown",
   "metadata": {},
   "source": [
    "## Imports"
   ]
  },
  {
   "cell_type": "code",
   "execution_count": 2,
   "metadata": {},
   "outputs": [],
   "source": [
    "import pandas as pd\n",
    "import matplotlib.pyplot as plt"
   ]
  },
  {
   "cell_type": "markdown",
   "metadata": {},
   "source": [
    "## load in csv file"
   ]
  },
  {
   "cell_type": "code",
   "execution_count": 3,
   "metadata": {},
   "outputs": [],
   "source": [
    "df = pd.read_csv(\"netflix_titles.csv\")"
   ]
  },
  {
   "cell_type": "markdown",
   "metadata": {},
   "source": [
    "## number of tv shows per year"
   ]
  },
  {
   "cell_type": "code",
   "execution_count": 19,
   "metadata": {},
   "outputs": [
    {
     "name": "stdout",
     "output_type": "stream",
     "text": [
      "1925 : 1\n",
      "1942 : 2\n",
      "1943 : 3\n",
      "1944 : 3\n",
      "1945 : 4\n",
      "1946 : 2\n",
      "1947 : 1\n",
      "1954 : 2\n",
      "1955 : 3\n",
      "1956 : 2\n",
      "1958 : 3\n",
      "1959 : 1\n",
      "1960 : 4\n",
      "1961 : 1\n",
      "1962 : 3\n",
      "1963 : 2\n",
      "1964 : 2\n",
      "1965 : 2\n",
      "1966 : 1\n",
      "1967 : 5\n",
      "1968 : 3\n",
      "1969 : 2\n",
      "1970 : 2\n",
      "1971 : 5\n",
      "1972 : 5\n",
      "1973 : 10\n",
      "1974 : 7\n",
      "1975 : 7\n",
      "1976 : 9\n",
      "1977 : 7\n",
      "1978 : 7\n",
      "1979 : 11\n",
      "1980 : 11\n",
      "1981 : 13\n",
      "1982 : 17\n",
      "1983 : 11\n",
      "1984 : 12\n",
      "1985 : 10\n",
      "1986 : 13\n",
      "1987 : 8\n",
      "1988 : 18\n",
      "1989 : 16\n",
      "1990 : 22\n",
      "1991 : 17\n",
      "1992 : 23\n",
      "1993 : 28\n",
      "1994 : 22\n",
      "1995 : 25\n",
      "1996 : 24\n",
      "1997 : 38\n",
      "1998 : 36\n",
      "1999 : 39\n",
      "2000 : 37\n",
      "2001 : 45\n",
      "2002 : 51\n",
      "2003 : 61\n",
      "2004 : 64\n",
      "2005 : 80\n",
      "2006 : 96\n",
      "2007 : 88\n",
      "2008 : 136\n",
      "2009 : 152\n",
      "2010 : 194\n",
      "2011 : 185\n",
      "2012 : 237\n",
      "2013 : 288\n",
      "2014 : 352\n",
      "2015 : 560\n",
      "2016 : 902\n",
      "2017 : 1032\n",
      "2018 : 1147\n",
      "2019 : 1030\n",
      "2020 : 953\n",
      "2021 : 592\n"
     ]
    },
    {
     "data": {
      "image/png": "[encoded data removed]",
      "text/plain": [
       "<Figure size 640x480 with 1 Axes>"
      ]
     },
     "metadata": {},
     "output_type": "display_data"
    }
   ],
   "source": [
    "extract = df[[\"release_year\"]]\n",
    "\n",
    "release_year = {}\n",
    "\n",
    "for year in extract.values:\n",
    "    year = year[0]\n",
    "    if year not in release_year:\n",
    "        release_year.setdefault(year, 1)\n",
    "    else:\n",
    "        release_year[year] += 1\n",
    "\n",
    "\n",
    "lists = sorted(release_year.items()) # sorted by key, return a list of tuples\n",
    "\n",
    "for (key, val) in lists:\n",
    "    print(f\"{key} : {val}\")\n",
    "\n",
    "x, y = zip(*lists) # unpack a list of pairs into two tuples\n",
    "\n",
    "plt.rcParams['axes.facecolor'] = 'beige'\n",
    "plt.plot(x, y, color=\"olive\")\n",
    "plt.grid()\n",
    "plt.show()"
   ]
  }
 ],
 "metadata": {
  "kernelspec": {
   "display_name": "Python 3",
   "language": "python",
   "name": "python3"
  },
  "language_info": {
   "codemirror_mode": {
    "name": "ipython",
    "version": 3
   },
   "file_extension": ".py",
   "mimetype": "text/x-python",
   "name": "python",
   "nbconvert_exporter": "python",
   "pygments_lexer": "ipython3",
   "version": "3.11.9"
  }
 },
 "nbformat": 4,
 "nbformat_minor": 2
}
